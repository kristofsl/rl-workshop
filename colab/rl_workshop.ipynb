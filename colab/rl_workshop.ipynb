{
  "nbformat": 4,
  "nbformat_minor": 0,
  "metadata": {
    "colab": {
      "provenance": [],
      "gpuType": "T4"
    },
    "kernelspec": {
      "name": "python3",
      "display_name": "Python 3"
    },
    "language_info": {
      "name": "python"
    },
    "accelerator": "GPU"
  },
  "cells": [
    {
      "cell_type": "code",
      "source": [
        "!pip install optuna==3.2.0\n",
        "!pip install gymnasium==0.28.1\n",
        "!pip install renderlab"
      ],
      "metadata": {
        "colab": {
          "base_uri": "https://localhost:8080/"
        },
        "id": "btOKapbhZlFX",
        "outputId": "a61f424a-d3e4-4e77-b266-2f811f08e1c9"
      },
      "execution_count": 1,
      "outputs": [
        {
          "output_type": "stream",
          "name": "stdout",
          "text": [
            "Collecting optuna==3.2.0\n",
            "  Downloading optuna-3.2.0-py3-none-any.whl (390 kB)\n",
            "\u001b[?25l     \u001b[90m━━━━━━━━━━━━━━━━━━━━━━━━━━━━━━━━━━━━━━━━\u001b[0m \u001b[32m0.0/390.6 kB\u001b[0m \u001b[31m?\u001b[0m eta \u001b[36m-:--:--\u001b[0m\r\u001b[2K     \u001b[90m━━━━━━━━━━━━━━━━━━━━━━━━━━━━━━━━━━━━━━\u001b[0m \u001b[32m390.6/390.6 kB\u001b[0m \u001b[31m22.4 MB/s\u001b[0m eta \u001b[36m0:00:00\u001b[0m\n",
            "\u001b[?25hCollecting alembic>=1.5.0 (from optuna==3.2.0)\n",
            "  Downloading alembic-1.11.1-py3-none-any.whl (224 kB)\n",
            "\u001b[2K     \u001b[90m━━━━━━━━━━━━━━━━━━━━━━━━━━━━━━━━━━━━━━\u001b[0m \u001b[32m224.5/224.5 kB\u001b[0m \u001b[31m26.1 MB/s\u001b[0m eta \u001b[36m0:00:00\u001b[0m\n",
            "\u001b[?25hCollecting cmaes>=0.9.1 (from optuna==3.2.0)\n",
            "  Downloading cmaes-0.9.1-py3-none-any.whl (21 kB)\n",
            "Collecting colorlog (from optuna==3.2.0)\n",
            "  Downloading colorlog-6.7.0-py2.py3-none-any.whl (11 kB)\n",
            "Requirement already satisfied: numpy in /usr/local/lib/python3.10/dist-packages (from optuna==3.2.0) (1.22.4)\n",
            "Requirement already satisfied: packaging>=20.0 in /usr/local/lib/python3.10/dist-packages (from optuna==3.2.0) (23.1)\n",
            "Requirement already satisfied: sqlalchemy>=1.3.0 in /usr/local/lib/python3.10/dist-packages (from optuna==3.2.0) (2.0.16)\n",
            "Requirement already satisfied: tqdm in /usr/local/lib/python3.10/dist-packages (from optuna==3.2.0) (4.65.0)\n",
            "Requirement already satisfied: PyYAML in /usr/local/lib/python3.10/dist-packages (from optuna==3.2.0) (6.0)\n",
            "Collecting Mako (from alembic>=1.5.0->optuna==3.2.0)\n",
            "  Downloading Mako-1.2.4-py3-none-any.whl (78 kB)\n",
            "\u001b[2K     \u001b[90m━━━━━━━━━━━━━━━━━━━━━━━━━━━━━━━━━━━━━━━━\u001b[0m \u001b[32m78.7/78.7 kB\u001b[0m \u001b[31m10.5 MB/s\u001b[0m eta \u001b[36m0:00:00\u001b[0m\n",
            "\u001b[?25hRequirement already satisfied: typing-extensions>=4 in /usr/local/lib/python3.10/dist-packages (from alembic>=1.5.0->optuna==3.2.0) (4.6.3)\n",
            "Requirement already satisfied: greenlet!=0.4.17 in /usr/local/lib/python3.10/dist-packages (from sqlalchemy>=1.3.0->optuna==3.2.0) (2.0.2)\n",
            "Requirement already satisfied: MarkupSafe>=0.9.2 in /usr/local/lib/python3.10/dist-packages (from Mako->alembic>=1.5.0->optuna==3.2.0) (2.1.3)\n",
            "Installing collected packages: Mako, colorlog, cmaes, alembic, optuna\n",
            "Successfully installed Mako-1.2.4 alembic-1.11.1 cmaes-0.9.1 colorlog-6.7.0 optuna-3.2.0\n",
            "Collecting gymnasium==0.28.1\n",
            "  Downloading gymnasium-0.28.1-py3-none-any.whl (925 kB)\n",
            "\u001b[2K     \u001b[90m━━━━━━━━━━━━━━━━━━━━━━━━━━━━━━━━━━━━━━\u001b[0m \u001b[32m925.5/925.5 kB\u001b[0m \u001b[31m24.8 MB/s\u001b[0m eta \u001b[36m0:00:00\u001b[0m\n",
            "\u001b[?25hRequirement already satisfied: numpy>=1.21.0 in /usr/local/lib/python3.10/dist-packages (from gymnasium==0.28.1) (1.22.4)\n",
            "Collecting jax-jumpy>=1.0.0 (from gymnasium==0.28.1)\n",
            "  Downloading jax_jumpy-1.0.0-py3-none-any.whl (20 kB)\n",
            "Requirement already satisfied: cloudpickle>=1.2.0 in /usr/local/lib/python3.10/dist-packages (from gymnasium==0.28.1) (2.2.1)\n",
            "Requirement already satisfied: typing-extensions>=4.3.0 in /usr/local/lib/python3.10/dist-packages (from gymnasium==0.28.1) (4.6.3)\n",
            "Collecting farama-notifications>=0.0.1 (from gymnasium==0.28.1)\n",
            "  Downloading Farama_Notifications-0.0.4-py3-none-any.whl (2.5 kB)\n",
            "Installing collected packages: farama-notifications, jax-jumpy, gymnasium\n",
            "Successfully installed farama-notifications-0.0.4 gymnasium-0.28.1 jax-jumpy-1.0.0\n",
            "Collecting renderlab\n",
            "  Downloading renderlab-0.1.20230421184216-py3-none-any.whl (4.0 kB)\n",
            "Requirement already satisfied: moviepy in /usr/local/lib/python3.10/dist-packages (from renderlab) (1.0.3)\n",
            "Requirement already satisfied: gymnasium in /usr/local/lib/python3.10/dist-packages (from renderlab) (0.28.1)\n",
            "Requirement already satisfied: numpy>=1.21.0 in /usr/local/lib/python3.10/dist-packages (from gymnasium->renderlab) (1.22.4)\n",
            "Requirement already satisfied: jax-jumpy>=1.0.0 in /usr/local/lib/python3.10/dist-packages (from gymnasium->renderlab) (1.0.0)\n",
            "Requirement already satisfied: cloudpickle>=1.2.0 in /usr/local/lib/python3.10/dist-packages (from gymnasium->renderlab) (2.2.1)\n",
            "Requirement already satisfied: typing-extensions>=4.3.0 in /usr/local/lib/python3.10/dist-packages (from gymnasium->renderlab) (4.6.3)\n",
            "Requirement already satisfied: farama-notifications>=0.0.1 in /usr/local/lib/python3.10/dist-packages (from gymnasium->renderlab) (0.0.4)\n",
            "Requirement already satisfied: decorator<5.0,>=4.0.2 in /usr/local/lib/python3.10/dist-packages (from moviepy->renderlab) (4.4.2)\n",
            "Requirement already satisfied: tqdm<5.0,>=4.11.2 in /usr/local/lib/python3.10/dist-packages (from moviepy->renderlab) (4.65.0)\n",
            "Requirement already satisfied: requests<3.0,>=2.8.1 in /usr/local/lib/python3.10/dist-packages (from moviepy->renderlab) (2.27.1)\n",
            "Requirement already satisfied: proglog<=1.0.0 in /usr/local/lib/python3.10/dist-packages (from moviepy->renderlab) (0.1.10)\n",
            "Requirement already satisfied: imageio<3.0,>=2.5 in /usr/local/lib/python3.10/dist-packages (from moviepy->renderlab) (2.25.1)\n",
            "Requirement already satisfied: imageio-ffmpeg>=0.2.0 in /usr/local/lib/python3.10/dist-packages (from moviepy->renderlab) (0.4.8)\n",
            "Requirement already satisfied: pillow>=8.3.2 in /usr/local/lib/python3.10/dist-packages (from imageio<3.0,>=2.5->moviepy->renderlab) (8.4.0)\n",
            "Requirement already satisfied: urllib3<1.27,>=1.21.1 in /usr/local/lib/python3.10/dist-packages (from requests<3.0,>=2.8.1->moviepy->renderlab) (1.26.16)\n",
            "Requirement already satisfied: certifi>=2017.4.17 in /usr/local/lib/python3.10/dist-packages (from requests<3.0,>=2.8.1->moviepy->renderlab) (2023.5.7)\n",
            "Requirement already satisfied: charset-normalizer~=2.0.0 in /usr/local/lib/python3.10/dist-packages (from requests<3.0,>=2.8.1->moviepy->renderlab) (2.0.12)\n",
            "Requirement already satisfied: idna<4,>=2.5 in /usr/local/lib/python3.10/dist-packages (from requests<3.0,>=2.8.1->moviepy->renderlab) (3.4)\n",
            "Installing collected packages: renderlab\n",
            "Successfully installed renderlab-0.1.20230421184216\n"
          ]
        }
      ]
    },
    {
      "cell_type": "code",
      "source": [
        "from typing import Tuple, List, Callable, Union, Optional, Dict\n",
        "import numpy as np\n",
        "import os\n",
        "import pathlib\n",
        "import imageio\n",
        "from pathlib import Path\n",
        "import pandas as pdbb\n",
        "import gymnasium as gym\n",
        "import numpy as np\n",
        "from tqdm import tqdm\n",
        "from matplotlib import pyplot as plt\n",
        "from pathlib import Path\n",
        "from gym.wrappers import RecordVideo\n",
        "import datetime\n",
        "import tensorflow as tf\n",
        "import numpy as np\n",
        "from tensorflow import keras\n",
        "from collections import deque\n",
        "import time\n",
        "import random\n",
        "from keras.models import Sequential\n",
        "from keras.layers import Dense\n",
        "from keras.optimizers import Adam\n",
        "import os\n",
        "import optuna\n",
        "from optuna.importance import get_param_importances\n",
        "import uuid\n",
        "import renderlab as rl"
      ],
      "metadata": {
        "id": "FhHxtnSXZpaO",
        "colab": {
          "base_uri": "https://localhost:8080/"
        },
        "outputId": "e4f72b83-c604-4b00-80e9-c9d3fdddcd25"
      },
      "execution_count": 2,
      "outputs": [
        {
          "output_type": "stream",
          "name": "stderr",
          "text": [
            "/usr/local/lib/python3.10/dist-packages/jaxlib/xla_client.py:225: DeprecationWarning: ml_dtypes.float8_e4m3b11 is deprecated. Use ml_dtypes.float8_e4m3b11fnuz\n",
            "  float8_e4m3b11fnuz = ml_dtypes.float8_e4m3b11\n",
            "WARNING:py.warnings:/usr/local/lib/python3.10/dist-packages/moviepy/video/fx/painting.py:7: DeprecationWarning: Please use `sobel` from the `scipy.ndimage` namespace, the `scipy.ndimage.filters` namespace is deprecated.\n",
            "  from scipy.ndimage.filters import sobel\n",
            "\n"
          ]
        }
      ]
    },
    {
      "cell_type": "code",
      "source": [
        "def evaluate(\n",
        "    agent,\n",
        "    env,\n",
        "    n_episodes: int,\n",
        "    observation_space_size: int\n",
        ") -> Tuple[List, List]:\n",
        "\n",
        "    # keep track of the reward and steps per episode\n",
        "    reward_per_episode = []\n",
        "    steps_per_episode = []\n",
        "\n",
        "    for i in range(0, n_episodes):\n",
        "\n",
        "        # reset and initial state from environment needs reshape to np array (tuple instead of array with dimensions 1,4)\n",
        "        state = np.reshape(env.reset()[0], [1, observation_space_size])\n",
        "\n",
        "        # initialize the cumulative steps and the rewards for this episode\n",
        "        rewards = 0\n",
        "        steps = 0\n",
        "\n",
        "        # done = environment ended badly / environment ended after 500 episodes\n",
        "        done = False\n",
        "        truncated = False\n",
        "\n",
        "        while not (done or truncated):\n",
        "\n",
        "            # determine action based on the state\n",
        "            action = agent.act(state)\n",
        "\n",
        "            # take the action and observe the reward, new state, etc\n",
        "            new_state, reward, done, truncated, info = env.step(action)\n",
        "\n",
        "            # enchange the reward signal\n",
        "            reward = enhance_reward_signal(new_state, reward, done, truncated, steps)\n",
        "\n",
        "            # add the data from this step to the episode data\n",
        "            rewards += reward\n",
        "            steps += 1\n",
        "\n",
        "            # reshape the new state\n",
        "            state = np.reshape(new_state, [1, observation_space_size])\n",
        "\n",
        "        reward_per_episode.append(rewards)\n",
        "        steps_per_episode.append(steps)\n",
        "\n",
        "    return reward_per_episode, steps_per_episode"
      ],
      "metadata": {
        "colab": {
          "base_uri": "https://localhost:8080/"
        },
        "id": "YSYGVxOayXvx",
        "outputId": "efcaa296-c4a3-4f53-b170-396bf19cc420"
      },
      "execution_count": 3,
      "outputs": [
        {
          "output_type": "stream",
          "name": "stderr",
          "text": [
            "WARNING:py.warnings:/usr/local/lib/python3.10/dist-packages/ipykernel/ipkernel.py:283: DeprecationWarning: `should_run_async` will not call `transform_cell` automatically in the future. Please pass the result to `transformed_cell` argument and any exception that happen during thetransform in `preprocessing_exc_tuple` in IPython 7.17 and above.\n",
            "  and should_run_async(code)\n",
            "\n"
          ]
        }
      ]
    },
    {
      "cell_type": "code",
      "source": [
        "# random agent\n",
        "class RandomAgent:\n",
        "    def __init__(self, env):\n",
        "        self.env = env\n",
        "\n",
        "    def act(self, state: np.array) -> int:\n",
        "        return self.env.action_space.sample()"
      ],
      "metadata": {
        "id": "YQPyQG-5yncg"
      },
      "execution_count": 4,
      "outputs": []
    },
    {
      "cell_type": "code",
      "source": [
        "def enhance_reward_signal(next_state, reward, done, truncated, steps):\n",
        "    if done:\n",
        "        reward = -100\n",
        "    elif truncated:\n",
        "        reward = 100\n",
        "    elif next_state[0] > 0.2:\n",
        "        reward = -5\n",
        "    elif next_state[0] < -0.2:\n",
        "        reward = -5\n",
        "\n",
        "    return reward"
      ],
      "metadata": {
        "id": "mTzg3HsVzoGF"
      },
      "execution_count": 5,
      "outputs": []
    },
    {
      "cell_type": "code",
      "source": [
        "def record_random_agent():\n",
        "    # trying the random agent first\n",
        "    env = gym.make('CartPole-v1',render_mode = \"rgb_array\")\n",
        "    env = rl.RenderFrame(env, \"./output\")\n",
        "\n",
        "    observation_space_size = env.observation_space.shape[0]\n",
        "\n",
        "    # create a random agent\n",
        "    random_agent = RandomAgent(env)\n",
        "\n",
        "    # evaluate the random agent\n",
        "    rewards, steps = evaluate(random_agent, env, 5, observation_space_size)\n",
        "\n",
        "    env.play()\n",
        "\n",
        "    # evaluation results\n",
        "    median_steps = np.median(steps)\n",
        "    mean_steps = np.mean(steps)\n",
        "    std_steps = np.std(steps)\n",
        "\n",
        "    print(f'median steps = {median_steps}')\n",
        "    print(f'std steps    = {std_steps}')\n",
        "    print(f'mean steps   = {mean_steps}')\n",
        "\n",
        "    return rewards, steps"
      ],
      "metadata": {
        "id": "W4TRoRYKytET"
      },
      "execution_count": 6,
      "outputs": []
    },
    {
      "cell_type": "code",
      "source": [
        "def record_trained_agent(agent, env):\n",
        "    env = rl.RenderFrame(env, \"./output\")\n",
        "\n",
        "    observation_space_size = env.observation_space.shape[0]\n",
        "\n",
        "    # evaluate the random agent\n",
        "    rewards, steps = evaluate(agent, env, 1, observation_space_size)\n",
        "\n",
        "    env.play()"
      ],
      "metadata": {
        "id": "l0TGQmNuplDJ"
      },
      "execution_count": 7,
      "outputs": []
    },
    {
      "cell_type": "code",
      "source": [
        "# record a random agent\n",
        "rewards, steps = record_random_agent()"
      ],
      "metadata": {
        "colab": {
          "base_uri": "https://localhost:8080/",
          "height": 564
        },
        "id": "huM3ocq5yZME",
        "outputId": "5f375526-391c-4311-d2e7-c2adbc920470"
      },
      "execution_count": 8,
      "outputs": [
        {
          "output_type": "stream",
          "name": "stdout",
          "text": [
            "Moviepy - Building video temp-{start}.mp4.\n",
            "Moviepy - Writing video temp-{start}.mp4\n",
            "\n"
          ]
        },
        {
          "output_type": "stream",
          "name": "stderr",
          "text": [
            "                                                   "
          ]
        },
        {
          "output_type": "stream",
          "name": "stdout",
          "text": [
            "Moviepy - Done !\n",
            "Moviepy - video ready temp-{start}.mp4\n"
          ]
        },
        {
          "output_type": "stream",
          "name": "stderr",
          "text": [
            "\r"
          ]
        },
        {
          "output_type": "display_data",
          "data": {
            "text/plain": [
              "<IPython.core.display.Video object>"
            ],
            "text/html": [
              "<video controls  >\n",
              " <source src=\"data:video/mp4;base64,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\" type=\"video/mp4\">\n",
              " Your browser does not support the video tag.\n",
              " </video>"
            ]
          },
          "metadata": {}
        },
        {
          "output_type": "stream",
          "name": "stdout",
          "text": [
            "median steps = 18.0\n",
            "std steps    = 6.523802572120037\n",
            "mean steps   = 19.2\n"
          ]
        }
      ]
    },
    {
      "cell_type": "code",
      "source": [
        "import matplotlib.pyplot as plt\n",
        "import pandas as pd\n",
        "\n",
        "fig, ax = plt.subplots(figsize = (10, 4))\n",
        "ax.set_title(\"Steps\")\n",
        "pd.Series(steps).plot(kind='hist', bins=100)\n",
        "\n",
        "plt.show()"
      ],
      "metadata": {
        "colab": {
          "base_uri": "https://localhost:8080/",
          "height": 391
        },
        "id": "M6_conWu0S0i",
        "outputId": "9349fd38-a882-4568-9eac-966c599107eb"
      },
      "execution_count": 9,
      "outputs": [
        {
          "output_type": "display_data",
          "data": {
            "text/plain": [
              "<Figure size 1000x400 with 1 Axes>"
            ],
            "image/png": "[encoded data removed]"
          },
          "metadata": {}
        }
      ]
    },
    {
      "cell_type": "code",
      "source": [
        "def sample_hyper_parameters(trial: optuna.trial.Trial) -> Dict:\n",
        "\n",
        "    batch_size = trial.suggest_categorical(\"batch_size\", [16, 32, 64, 128, 256])\n",
        "    memory_size = trial.suggest_int(\"memory_size\", 500, 10000)\n",
        "    gamma = trial.suggest_float('gamma', 0.9, 0.99)\n",
        "    exploration_decay = trial.suggest_categorical('exploration_decay', [0.9, 0.95, 0.98, 0.99])\n",
        "    layer_size = trial.suggest_categorical('layer_size',[16,32,64,128,256, 512])\n",
        "    exploration_min = trial.suggest_float('exploration_min',0.001, 0.2)\n",
        "    episodes = trial.suggest_int(\"episodes\", 10, 20)\n",
        "    learning_rate = trial.suggest_categorical('learning_rate',[0.001,0.0001])\n",
        "    extra_intermediate_layers = trial.suggest_categorical('extra_layers',[0,1])\n",
        "\n",
        "    return {\n",
        "        'batch_size': batch_size,\n",
        "        'memory_size': memory_size,\n",
        "        'gamma': gamma,\n",
        "        'exploration_decay' : exploration_decay,\n",
        "        'layer_size' : layer_size,\n",
        "        'exploration_min' : exploration_min,\n",
        "        'episodes' : episodes,\n",
        "        'learning_rate' : learning_rate,\n",
        "        'extra_intermediate_layers' : extra_intermediate_layers\n",
        "    }"
      ],
      "metadata": {
        "colab": {
          "base_uri": "https://localhost:8080/"
        },
        "id": "qqtZGB_dU2FN",
        "outputId": "a800467b-335b-4bb8-f052-e61a5ac0c693"
      },
      "execution_count": 10,
      "outputs": [
        {
          "output_type": "stream",
          "name": "stderr",
          "text": [
            "WARNING:py.warnings:/usr/local/lib/python3.10/dist-packages/ipykernel/ipkernel.py:283: DeprecationWarning: `should_run_async` will not call `transform_cell` automatically in the future. Please pass the result to `transformed_cell` argument and any exception that happen during thetransform in `preprocessing_exc_tuple` in IPython 7.17 and above.\n",
            "  and should_run_async(code)\n",
            "\n"
          ]
        }
      ]
    },
    {
      "cell_type": "code",
      "source": [
        "class DeepQAgent:\n",
        "\n",
        "    def __init__(self, env, memory_size, gamma, exploration_decay, layer_size, batch_size, exploration_min, learning_rate, extra_intermediate_layers = 0, exploration_rate = 1.0):\n",
        "        self.__env = env\n",
        "        self.__state_size = 4                                           # we have an 4 numbers that represent our size and this will be the input for our neural net\n",
        "        self.__action_size = 2                                          # we have 2 possible actions (push the card to the left or to the right)\n",
        "        self.__memory = deque(maxlen=memory_size)                       # memory for storing our experiences\n",
        "        self.__layer_size_1 = layer_size                                # nn layer 1 width\n",
        "        self.__layer_size_2 = layer_size                                # nn layer 2 width\n",
        "        self.__extra_intermediate_layers = extra_intermediate_layers    # extra intermediate layers?\n",
        "        self.__learning_rate = learning_rate                            # learning rate\n",
        "        self.__model = self._build_model()                              # our model\n",
        "        self.__gamma = gamma                                            # discount rate\n",
        "        self.__exploration_rate = exploration_rate                      # exploration rate\n",
        "        self.__exploration_min = exploration_min                        # min value for exploration\n",
        "        self.__exploration_decay = exploration_decay                    # decay in the exploration rate (moving from exploration to exploitation)\n",
        "        self.__step_counter = 0                                         # keep track of the steps and update the target model after target_model_delay steps\n",
        "        self.__sample_batch_size = batch_size                           # how much samples to we take for the learning step\n",
        "        self.__uuid = str(uuid.uuid4())                                 # unique uid for the model\n",
        "\n",
        "\n",
        "    def add_to_memory(self, state, action, reward, next_state, done):\n",
        "        self.__memory.append((state, action, reward, next_state, done))\n",
        "\n",
        "    def disable_exploration(self):\n",
        "        self.__exploration_rate = 0\n",
        "        self.__exploration_min = 0\n",
        "\n",
        "    def get_agent_uuid(self):\n",
        "        return self.__uuid\n",
        "\n",
        "    def save_model(self):\n",
        "        self.__model.save(f'model-{self.__uuid}.keras')\n",
        "\n",
        "    def replay(self):\n",
        "\n",
        "        if len(self.__memory) <= self.__sample_batch_size:\n",
        "            return\n",
        "        else:\n",
        "            mini_batch = random.sample(self.__memory, self.__sample_batch_size)\n",
        "\n",
        "            current_state = np.zeros((self.__sample_batch_size, self.__state_size))\n",
        "            next_state = np.zeros((self.__sample_batch_size, self.__state_size))\n",
        "            target_q_values = np.zeros((self.__sample_batch_size, self.__state_size))\n",
        "\n",
        "            action = np.zeros(self.__sample_batch_size, dtype=int)\n",
        "            reward = np.zeros(self.__sample_batch_size)\n",
        "            done = np.zeros(self.__sample_batch_size,dtype=bool)\n",
        "\n",
        "            for i in range(self.__sample_batch_size):\n",
        "                current_state[i] = mini_batch[i][0]   # state\n",
        "                action[i] = mini_batch[i][1]          # action\n",
        "                reward[i] = mini_batch[i][2]          # reward\n",
        "                next_state[i] = mini_batch[i][3]      # next_state\n",
        "                done[i] = mini_batch[i][4]            # done\n",
        "\n",
        "            target = self.__model.predict(current_state,verbose=0)\n",
        "            Qvalue_ns = self.__model.predict(next_state,verbose=0)\n",
        "\n",
        "            for i in range(self.__sample_batch_size):\n",
        "                if done[i]:\n",
        "                    target[i][action[i]] = reward[i]\n",
        "                else:\n",
        "                    target[i][action[i]] = reward[i] + self.__gamma * (np.amax(Qvalue_ns[i]))\n",
        "\n",
        "\n",
        "            self.__model.fit(current_state, target, batch_size=self.__sample_batch_size, epochs=1, verbose=0)\n",
        "\n",
        "            if self.__exploration_rate > self.__exploration_min:\n",
        "                self.__exploration_rate *= self.__exploration_decay\n",
        "\n",
        "\n",
        "    def act(self, state: np.array) -> int:\n",
        "        if np.random.rand() < self.__exploration_rate:\n",
        "            random_action = self.__env.action_space.sample()\n",
        "            return random_action\n",
        "        else:\n",
        "            actions = self.__model.predict(state, verbose=0)             # get a model prediction\n",
        "            best_action = np.argmax(actions[0])                          # get the output index with the highest value\n",
        "            return best_action\n",
        "\n",
        "    def _build_model(self):\n",
        "        model = Sequential()\n",
        "        model.add(Dense(self.__layer_size_1, input_dim=self.__state_size, activation='relu'))\n",
        "        model.add(Dense(self.__layer_size_2, activation='relu'))\n",
        "        if (self.__extra_intermediate_layers > 0):\n",
        "            for i in range(self.__extra_intermediate_layers + 1):\n",
        "                model.add(Dense(self.__layer_size_2, activation='relu'))\n",
        "        model.add(Dense(self.__action_size, activation='linear'))\n",
        "        model.compile(loss='mse', optimizer=tf.keras.optimizers.legacy.Adam(learning_rate=self.__learning_rate))\n",
        "        return model"
      ],
      "metadata": {
        "id": "fIWyHHHLU7is"
      },
      "execution_count": 11,
      "outputs": []
    },
    {
      "cell_type": "code",
      "source": [
        "# train loop for the deep q agent\n",
        "def optimize_train(agent, env, observation_space_size, n_episodes):\n",
        "    # print('starting traing of agent ...')\n",
        "\n",
        "    for i in range(0, n_episodes):\n",
        "        # reset and reshape the state\n",
        "        state = np.reshape(env.reset()[0], [1, observation_space_size])\n",
        "\n",
        "        print(f'new train episode {i} on : {datetime.datetime.now()}')\n",
        "\n",
        "        # initialize done (fail) and truncated (success)\n",
        "        done = False\n",
        "        truncated = False\n",
        "\n",
        "        steps = 0\n",
        "\n",
        "        while not (done or truncated):\n",
        "\n",
        "            steps += 1\n",
        "\n",
        "            # take action based on the state\n",
        "            action = agent.act(state)\n",
        "\n",
        "            # observe the signal from the environment after the action\n",
        "            next_state, reward, done, truncated, info = env.step(action)\n",
        "\n",
        "            # enhance the signal and merge the truncated and done signals\n",
        "            reward = enhance_reward_signal(next_state, reward, done, truncated, steps)\n",
        "\n",
        "            if done:\n",
        "                print(f'ended training episode with mistake and reward {reward} and step count {steps}')\n",
        "            elif truncated:\n",
        "                print(f'ended training episode with success and reward {reward} and step count {steps}')\n",
        "\n",
        "            next_state = np.reshape(next_state, [1, observation_space_size])\n",
        "\n",
        "            # add the observation to the memory\n",
        "            agent.add_to_memory(state, action, reward, next_state, done)\n",
        "\n",
        "            # replay observations from the memory and learn if needed\n",
        "            agent.replay()\n",
        "\n",
        "            # replace the current state\n",
        "            state = next_state"
      ],
      "metadata": {
        "id": "N3PP8R26WHup"
      },
      "execution_count": 12,
      "outputs": []
    },
    {
      "cell_type": "code",
      "source": [
        "def objective(trial: optuna.trial.Trial) -> float:\n",
        "\n",
        "    # create an environment\n",
        "    env = gym.make('CartPole-v1',render_mode = \"rgb_array\")\n",
        "\n",
        "    # fetch properties from environment\n",
        "    observation_space_size = env.observation_space.shape[0]\n",
        "    action_space_size = env.action_space.n\n",
        "\n",
        "    print(f'observation space size : {observation_space_size}')\n",
        "    print(f'action space size      : {action_space_size}')\n",
        "\n",
        "    # get the hyper parameter config\n",
        "    args = sample_hyper_parameters(trial)\n",
        "\n",
        "    print(f'optuna run with params started with params : {trial.params}')\n",
        "\n",
        "    # create the deep agent\n",
        "    deep_agent = DeepQAgent(\n",
        "        env,\n",
        "        memory_size = args['memory_size'],\n",
        "        gamma = args['gamma'],\n",
        "        exploration_decay = args['exploration_decay'],\n",
        "        layer_size = args['layer_size'],\n",
        "        batch_size = args['batch_size'],\n",
        "        exploration_min = args['exploration_min'],\n",
        "        learning_rate = args['learning_rate'],\n",
        "        extra_intermediate_layers = args['extra_intermediate_layers']\n",
        "    )\n",
        "\n",
        "    print('train loop started')\n",
        "\n",
        "    # reset all\n",
        "    env.reset()\n",
        "\n",
        "    # train loop\n",
        "    optimize_train(deep_agent,env, observation_space_size,n_episodes=args['episodes'])\n",
        "\n",
        "    # disable exploitation and only rely on the model for decisions\n",
        "    deep_agent.disable_exploration()\n",
        "\n",
        "    print('evaluation started')\n",
        "    rewards, steps = evaluate(deep_agent, env, 50, observation_space_size)\n",
        "\n",
        "    # evaluation results\n",
        "    median_steps = np.median(steps)\n",
        "    mean_steps = np.mean(steps)\n",
        "    std_steps = np.std(steps)\n",
        "\n",
        "    median_reward = np.median(rewards)\n",
        "    mean_reward = np.mean(rewards)\n",
        "    std_reward= np.std(rewards)\n",
        "\n",
        "\n",
        "    print(f'median reward = {median_reward}')\n",
        "    print(f'std reward    = {std_reward}')\n",
        "    print(f'mean reward   = {mean_reward}')\n",
        "\n",
        "    print(f'median steps = {median_steps}')\n",
        "    print(f'std steps    = {std_steps}')\n",
        "    print(f'mean steps   = {mean_steps}')\n",
        "\n",
        "    # record the agent\n",
        "    record_trained_agent(deep_agent,env)\n",
        "\n",
        "    # clear all the memory\n",
        "    keras.backend.clear_session()\n",
        "\n",
        "    return median_reward"
      ],
      "metadata": {
        "id": "gfXpyMZLVK0O"
      },
      "execution_count": 13,
      "outputs": []
    },
    {
      "cell_type": "code",
      "source": [
        "# create an optimized model\n",
        "study_name = \"rl-study\"\n",
        "storage_name = \"sqlite:///{}.db\".format(study_name)\n",
        "study = optuna.create_study(study_name=study_name, storage=storage_name,direction='maximize',load_if_exists=True)\n",
        "\n",
        "study.optimize(objective, n_trials=3, gc_after_trial=True)"
      ],
      "metadata": {
        "colab": {
          "base_uri": "https://localhost:8080/",
          "height": 1000
        },
        "id": "s8doAIy3VTKM",
        "outputId": "1caf1de0-2f22-4c85-e1d0-caeae7ce2b8f"
      },
      "execution_count": 14,
      "outputs": [
        {
          "output_type": "stream",
          "name": "stderr",
          "text": [
            "[I 2023-07-03 12:12:44,069] A new study created in RDB with name: rl-study\n"
          ]
        },
        {
          "output_type": "stream",
          "name": "stdout",
          "text": [
            "observation space size : 4\n",
            "action space size      : 2\n",
            "optuna run with params started with params : {'batch_size': 16, 'memory_size': 7307, 'gamma': 0.9360629306357108, 'exploration_decay': 0.98, 'layer_size': 128, 'exploration_min': 0.09183136782922015, 'episodes': 14, 'learning_rate': 0.001, 'extra_layers': 1}\n",
            "train loop started\n",
            "new train episode 0 on : 2023-07-03 12:12:48.092092\n",
            "ended training episode with mistake and reward -100 and step count 33\n",
            "new train episode 1 on : 2023-07-03 12:12:59.630754\n",
            "ended training episode with mistake and reward -100 and step count 15\n",
            "new train episode 2 on : 2023-07-03 12:13:02.961098\n",
            "ended training episode with mistake and reward -100 and step count 9\n",
            "new train episode 3 on : 2023-07-03 12:13:04.468100\n",
            "ended training episode with mistake and reward -100 and step count 12\n",
            "new train episode 4 on : 2023-07-03 12:13:07.238405\n",
            "ended training episode with mistake and reward -100 and step count 8\n",
            "new train episode 5 on : 2023-07-03 12:13:08.999607\n",
            "ended training episode with mistake and reward -100 and step count 11\n",
            "new train episode 6 on : 2023-07-03 12:13:10.960512\n",
            "ended training episode with mistake and reward -100 and step count 10\n",
            "new train episode 7 on : 2023-07-03 12:13:12.760471\n",
            "ended training episode with mistake and reward -100 and step count 12\n",
            "new train episode 8 on : 2023-07-03 12:13:15.081426\n",
            "ended training episode with mistake and reward -100 and step count 10\n",
            "new train episode 9 on : 2023-07-03 12:13:16.900249\n",
            "ended training episode with mistake and reward -100 and step count 96\n",
            "new train episode 10 on : 2023-07-03 12:13:39.460082\n",
            "ended training episode with mistake and reward -100 and step count 45\n",
            "new train episode 11 on : 2023-07-03 12:13:49.702410\n",
            "ended training episode with mistake and reward -100 and step count 83\n",
            "new train episode 12 on : 2023-07-03 12:14:05.813853\n",
            "ended training episode with mistake and reward -100 and step count 67\n",
            "new train episode 13 on : 2023-07-03 12:14:20.062469\n",
            "ended training episode with mistake and reward -100 and step count 68\n",
            "evaluation started\n",
            "median reward = -119.0\n",
            "std reward    = 71.63100166827209\n",
            "mean reward   = -128.86\n",
            "median steps = 79.5\n",
            "std steps    = 57.3744925903489\n",
            "mean steps   = 95.26\n",
            "Moviepy - Building video temp-{start}.mp4.\n",
            "Moviepy - Writing video temp-{start}.mp4\n",
            "\n"
          ]
        },
        {
          "output_type": "stream",
          "name": "stderr",
          "text": [
            "                                                             "
          ]
        },
        {
          "output_type": "stream",
          "name": "stdout",
          "text": [
            "Moviepy - Done !\n",
            "Moviepy - video ready temp-{start}.mp4\n"
          ]
        },
        {
          "output_type": "stream",
          "name": "stderr",
          "text": [
            "\r"
          ]
        },
        {
          "output_type": "display_data",
          "data": {
            "text/plain": [
              "<IPython.core.display.Video object>"
            ],
            "text/html": [
              "<video controls  >\n",
              " <source src=\"data:video/mp4;base64,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\" type=\"video/mp4\">\n",
              " Your browser does not support the video tag.\n",
              " </video>"
            ]
          },
          "metadata": {}
        },
        {
          "output_type": "stream",
          "name": "stderr",
          "text": [
            "[I 2023-07-03 12:18:43,347] Trial 0 finished with value: -119.0 and parameters: {'batch_size': 16, 'episodes': 14, 'exploration_decay': 0.98, 'exploration_min': 0.09183136782922015, 'extra_layers': 1, 'gamma': 0.9360629306357108, 'layer_size': 128, 'learning_rate': 0.001, 'memory_size': 7307}. Best is trial 0 with value: -119.0.\n"
          ]
        },
        {
          "output_type": "stream",
          "name": "stdout",
          "text": [
            "observation space size : 4\n",
            "action space size      : 2\n",
            "optuna run with params started with params : {'batch_size': 256, 'memory_size': 4786, 'gamma': 0.9326412403219556, 'exploration_decay': 0.99, 'layer_size': 512, 'exploration_min': 0.019502189092526413, 'episodes': 16, 'learning_rate': 0.001, 'extra_layers': 0}\n",
            "train loop started\n",
            "new train episode 0 on : 2023-07-03 12:18:44.195941\n",
            "ended training episode with mistake and reward -100 and step count 24\n",
            "new train episode 1 on : 2023-07-03 12:18:44.198549\n",
            "ended training episode with mistake and reward -100 and step count 26\n",
            "new train episode 2 on : 2023-07-03 12:18:44.200636\n",
            "ended training episode with mistake and reward -100 and step count 14\n",
            "new train episode 3 on : 2023-07-03 12:18:44.202412\n",
            "ended training episode with mistake and reward -100 and step count 14\n",
            "new train episode 4 on : 2023-07-03 12:18:44.203909\n",
            "ended training episode with mistake and reward -100 and step count 14\n",
            "new train episode 5 on : 2023-07-03 12:18:44.205406\n",
            "ended training episode with mistake and reward -100 and step count 21\n",
            "new train episode 6 on : 2023-07-03 12:18:44.207040\n",
            "ended training episode with mistake and reward -100 and step count 23\n",
            "new train episode 7 on : 2023-07-03 12:18:44.208936\n",
            "ended training episode with mistake and reward -100 and step count 18\n",
            "new train episode 8 on : 2023-07-03 12:18:44.210599\n",
            "ended training episode with mistake and reward -100 and step count 9\n",
            "new train episode 9 on : 2023-07-03 12:18:44.211961\n",
            "ended training episode with mistake and reward -100 and step count 21\n",
            "new train episode 10 on : 2023-07-03 12:18:44.213735\n",
            "ended training episode with mistake and reward -100 and step count 18\n",
            "new train episode 11 on : 2023-07-03 12:18:44.215419\n",
            "ended training episode with mistake and reward -100 and step count 20\n",
            "new train episode 12 on : 2023-07-03 12:18:44.217102\n",
            "ended training episode with mistake and reward -100 and step count 16\n",
            "new train episode 13 on : 2023-07-03 12:18:44.218658\n",
            "ended training episode with mistake and reward -100 and step count 16\n",
            "new train episode 14 on : 2023-07-03 12:18:44.220865\n",
            "ended training episode with mistake and reward -100 and step count 31\n",
            "new train episode 15 on : 2023-07-03 12:18:49.891811\n",
            "ended training episode with mistake and reward -100 and step count 76\n",
            "evaluation started\n",
            "median reward = -52.0\n",
            "std reward    = 16.3413096170411\n",
            "mean reward   = -48.96\n",
            "median steps = 49.0\n",
            "std steps    = 16.3413096170411\n",
            "mean steps   = 52.04\n",
            "Moviepy - Building video temp-{start}.mp4.\n",
            "Moviepy - Writing video temp-{start}.mp4\n",
            "\n"
          ]
        },
        {
          "output_type": "stream",
          "name": "stderr",
          "text": []
        },
        {
          "output_type": "stream",
          "name": "stdout",
          "text": [
            "Moviepy - Done !\n",
            "Moviepy - video ready temp-{start}.mp4\n"
          ]
        },
        {
          "output_type": "display_data",
          "data": {
            "text/plain": [
              "<IPython.core.display.Video object>"
            ],
            "text/html": [
              "<video controls  >\n",
              " <source src=\"data:video/mp4;base64,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\" type=\"video/mp4\">\n",
              " Your browser does not support the video tag.\n",
              " </video>"
            ]
          },
          "metadata": {}
        },
        {
          "output_type": "stream",
          "name": "stderr",
          "text": [
            "[I 2023-07-03 12:21:21,150] Trial 1 finished with value: -52.0 and parameters: {'batch_size': 256, 'episodes': 16, 'exploration_decay': 0.99, 'exploration_min': 0.019502189092526413, 'extra_layers': 0, 'gamma': 0.9326412403219556, 'layer_size': 512, 'learning_rate': 0.001, 'memory_size': 4786}. Best is trial 1 with value: -52.0.\n"
          ]
        },
        {
          "output_type": "stream",
          "name": "stdout",
          "text": [
            "observation space size : 4\n",
            "action space size      : 2\n",
            "optuna run with params started with params : {'batch_size': 32, 'memory_size': 3586, 'gamma': 0.9831282740627535, 'exploration_decay': 0.95, 'layer_size': 128, 'exploration_min': 0.1304504914816747, 'episodes': 13, 'learning_rate': 0.0001, 'extra_layers': 0}\n",
            "train loop started\n",
            "new train episode 0 on : 2023-07-03 12:21:21.727093\n",
            "ended training episode with mistake and reward -100 and step count 15\n",
            "new train episode 1 on : 2023-07-03 12:21:21.728517\n",
            "ended training episode with mistake and reward -100 and step count 43\n",
            "new train episode 2 on : 2023-07-03 12:21:26.809875\n",
            "ended training episode with mistake and reward -100 and step count 27\n",
            "new train episode 3 on : 2023-07-03 12:21:31.560866\n",
            "ended training episode with mistake and reward -100 and step count 17\n",
            "new train episode 4 on : 2023-07-03 12:21:34.431635\n",
            "ended training episode with mistake and reward -100 and step count 27\n",
            "new train episode 5 on : 2023-07-03 12:21:39.597639\n",
            "ended training episode with mistake and reward -100 and step count 33\n",
            "new train episode 6 on : 2023-07-03 12:21:45.228618\n",
            "ended training episode with mistake and reward -100 and step count 31\n",
            "new train episode 7 on : 2023-07-03 12:21:50.956364\n",
            "ended training episode with mistake and reward -100 and step count 38\n",
            "new train episode 8 on : 2023-07-03 12:21:57.669414\n",
            "ended training episode with mistake and reward -100 and step count 30\n",
            "new train episode 9 on : 2023-07-03 12:22:03.177499\n",
            "ended training episode with mistake and reward -100 and step count 40\n",
            "new train episode 10 on : 2023-07-03 12:22:10.454250\n",
            "ended training episode with mistake and reward -100 and step count 21\n",
            "new train episode 11 on : 2023-07-03 12:22:14.267598\n",
            "ended training episode with mistake and reward -100 and step count 26\n",
            "new train episode 12 on : 2023-07-03 12:22:21.491045\n",
            "ended training episode with mistake and reward -100 and step count 16\n",
            "evaluation started\n",
            "median reward = -81.5\n",
            "std reward    = 4.736074323741129\n",
            "mean reward   = -81.36\n",
            "median steps = 20.0\n",
            "std steps    = 4.324997109825624\n",
            "mean steps   = 20.12\n",
            "Moviepy - Building video temp-{start}.mp4.\n",
            "Moviepy - Writing video temp-{start}.mp4\n",
            "\n"
          ]
        },
        {
          "output_type": "stream",
          "name": "stderr",
          "text": [
            "                                                   "
          ]
        },
        {
          "output_type": "stream",
          "name": "stdout",
          "text": [
            "Moviepy - Done !\n",
            "Moviepy - video ready temp-{start}.mp4\n"
          ]
        },
        {
          "output_type": "stream",
          "name": "stderr",
          "text": [
            "\r"
          ]
        },
        {
          "output_type": "display_data",
          "data": {
            "text/plain": [
              "<IPython.core.display.Video object>"
            ],
            "text/html": [
              "<video controls  >\n",
              " <source src=\"data:video/mp4;base64,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\" type=\"video/mp4\">\n",
              " Your browser does not support the video tag.\n",
              " </video>"
            ]
          },
          "metadata": {}
        },
        {
          "output_type": "stream",
          "name": "stderr",
          "text": [
            "[I 2023-07-03 12:23:20,852] Trial 2 finished with value: -81.5 and parameters: {'batch_size': 32, 'episodes': 13, 'exploration_decay': 0.95, 'exploration_min': 0.1304504914816747, 'extra_layers': 0, 'gamma': 0.9831282740627535, 'layer_size': 128, 'learning_rate': 0.0001, 'memory_size': 3586}. Best is trial 1 with value: -52.0.\n"
          ]
        }
      ]
    },
    {
      "cell_type": "code",
      "source": [
        "# print param importances\n",
        "print(get_param_importances(study))"
      ],
      "metadata": {
        "colab": {
          "base_uri": "https://localhost:8080/"
        },
        "id": "IooChA6qgXih",
        "outputId": "acc7878a-945b-47c8-a747-67d33b599d45"
      },
      "execution_count": 15,
      "outputs": [
        {
          "output_type": "stream",
          "name": "stdout",
          "text": [
            "OrderedDict([('batch_size', 0.17756755698420398), ('memory_size', 0.16939038254815356), ('extra_layers', 0.1502560335852079), ('exploration_decay', 0.14652112540733295), ('episodes', 0.12789510781885702), ('layer_size', 0.07659851767020892), ('exploration_min', 0.07641707403349417), ('learning_rate', 0.039148582366312024), ('gamma', 0.036205619586229455)])\n"
          ]
        }
      ]
    },
    {
      "cell_type": "code",
      "source": [
        "df = study.trials_dataframe()\n",
        "df.head(20)"
      ],
      "metadata": {
        "colab": {
          "base_uri": "https://localhost:8080/",
          "height": 313
        },
        "id": "-pysxFBHgSNJ",
        "outputId": "95829770-74db-482f-d1b3-ff1e0305a712"
      },
      "execution_count": 16,
      "outputs": [
        {
          "output_type": "stream",
          "name": "stderr",
          "text": [
            "WARNING:py.warnings:/usr/local/lib/python3.10/dist-packages/ipykernel/ipkernel.py:283: DeprecationWarning: `should_run_async` will not call `transform_cell` automatically in the future. Please pass the result to `transformed_cell` argument and any exception that happen during thetransform in `preprocessing_exc_tuple` in IPython 7.17 and above.\n",
            "  and should_run_async(code)\n",
            "\n"
          ]
        },
        {
          "output_type": "execute_result",
          "data": {
            "text/plain": [
              "   number  value             datetime_start          datetime_complete  \\\n",
              "0       0 -119.0 2023-07-03 12:12:44.083711 2023-07-03 12:18:43.177714   \n",
              "1       1  -52.0 2023-07-03 12:18:43.973555 2023-07-03 12:21:21.122447   \n",
              "2       2  -81.5 2023-07-03 12:21:21.560651 2023-07-03 12:23:20.797663   \n",
              "\n",
              "                duration  params_batch_size  params_episodes  \\\n",
              "0 0 days 00:05:59.094003                 16               14   \n",
              "1 0 days 00:02:37.148892                256               16   \n",
              "2 0 days 00:01:59.237012                 32               13   \n",
              "\n",
              "   params_exploration_decay  params_exploration_min  params_extra_layers  \\\n",
              "0                      0.98                0.091831                    1   \n",
              "1                      0.99                0.019502                    0   \n",
              "2                      0.95                0.130450                    0   \n",
              "\n",
              "   params_gamma  params_layer_size  params_learning_rate  params_memory_size  \\\n",
              "0      0.936063                128                0.0010                7307   \n",
              "1      0.932641                512                0.0010                4786   \n",
              "2      0.983128                128                0.0001                3586   \n",
              "\n",
              "      state  \n",
              "0  COMPLETE  \n",
              "1  COMPLETE  \n",
              "2  COMPLETE  "
            ],
            "text/html": [
              "\n",
              "  <div id=\"df-fecb91ab-8e0d-429d-921d-1cf3b980e069\">\n",
              "    <div class=\"colab-df-container\">\n",
              "      <div>\n",
              "<style scoped>\n",
              "    .dataframe tbody tr th:only-of-type {\n",
              "        vertical-align: middle;\n",
              "    }\n",
              "\n",
              "    .dataframe tbody tr th {\n",
              "        vertical-align: top;\n",
              "    }\n",
              "\n",
              "    .dataframe thead th {\n",
              "        text-align: right;\n",
              "    }\n",
              "</style>\n",
              "<table border=\"1\" class=\"dataframe\">\n",
              "  <thead>\n",
              "    <tr style=\"text-align: right;\">\n",
              "      <th></th>\n",
              "      <th>number</th>\n",
              "      <th>value</th>\n",
              "      <th>datetime_start</th>\n",
              "      <th>datetime_complete</th>\n",
              "      <th>duration</th>\n",
              "      <th>params_batch_size</th>\n",
              "      <th>params_episodes</th>\n",
              "      <th>params_exploration_decay</th>\n",
              "      <th>params_exploration_min</th>\n",
              "      <th>params_extra_layers</th>\n",
              "      <th>params_gamma</th>\n",
              "      <th>params_layer_size</th>\n",
              "      <th>params_learning_rate</th>\n",
              "      <th>params_memory_size</th>\n",
              "      <th>state</th>\n",
              "    </tr>\n",
              "  </thead>\n",
              "  <tbody>\n",
              "    <tr>\n",
              "      <th>0</th>\n",
              "      <td>0</td>\n",
              "      <td>-119.0</td>\n",
              "      <td>2023-07-03 12:12:44.083711</td>\n",
              "      <td>2023-07-03 12:18:43.177714</td>\n",
              "      <td>0 days 00:05:59.094003</td>\n",
              "      <td>16</td>\n",
              "      <td>14</td>\n",
              "      <td>0.98</td>\n",
              "      <td>0.091831</td>\n",
              "      <td>1</td>\n",
              "      <td>0.936063</td>\n",
              "      <td>128</td>\n",
              "      <td>0.0010</td>\n",
              "      <td>7307</td>\n",
              "      <td>COMPLETE</td>\n",
              "    </tr>\n",
              "    <tr>\n",
              "      <th>1</th>\n",
              "      <td>1</td>\n",
              "      <td>-52.0</td>\n",
              "      <td>2023-07-03 12:18:43.973555</td>\n",
              "      <td>2023-07-03 12:21:21.122447</td>\n",
              "      <td>0 days 00:02:37.148892</td>\n",
              "      <td>256</td>\n",
              "      <td>16</td>\n",
              "      <td>0.99</td>\n",
              "      <td>0.019502</td>\n",
              "      <td>0</td>\n",
              "      <td>0.932641</td>\n",
              "      <td>512</td>\n",
              "      <td>0.0010</td>\n",
              "      <td>4786</td>\n",
              "      <td>COMPLETE</td>\n",
              "    </tr>\n",
              "    <tr>\n",
              "      <th>2</th>\n",
              "      <td>2</td>\n",
              "      <td>-81.5</td>\n",
              "      <td>2023-07-03 12:21:21.560651</td>\n",
              "      <td>2023-07-03 12:23:20.797663</td>\n",
              "      <td>0 days 00:01:59.237012</td>\n",
              "      <td>32</td>\n",
              "      <td>13</td>\n",
              "      <td>0.95</td>\n",
              "      <td>0.130450</td>\n",
              "      <td>0</td>\n",
              "      <td>0.983128</td>\n",
              "      <td>128</td>\n",
              "      <td>0.0001</td>\n",
              "      <td>3586</td>\n",
              "      <td>COMPLETE</td>\n",
              "    </tr>\n",
              "  </tbody>\n",
              "</table>\n",
              "</div>\n",
              "      <button class=\"colab-df-convert\" onclick=\"convertToInteractive('df-fecb91ab-8e0d-429d-921d-1cf3b980e069')\"\n",
              "              title=\"Convert this dataframe to an interactive table.\"\n",
              "              style=\"display:none;\">\n",
              "        \n",
              "  <svg xmlns=\"http://www.w3.org/2000/svg\" height=\"24px\"viewBox=\"0 0 24 24\"\n",
              "       width=\"24px\">\n",
              "    <path d=\"M0 0h24v24H0V0z\" fill=\"none\"/>\n",
              "    <path d=\"M18.56 5.44l.94 2.06.94-2.06 2.06-.94-2.06-.94-.94-2.06-.94 2.06-2.06.94zm-11 1L8.5 8.5l.94-2.06 2.06-.94-2.06-.94L8.5 2.5l-.94 2.06-2.06.94zm10 10l.94 2.06.94-2.06 2.06-.94-2.06-.94-.94-2.06-.94 2.06-2.06.94z\"/><path d=\"M17.41 7.96l-1.37-1.37c-.4-.4-.92-.59-1.43-.59-.52 0-1.04.2-1.43.59L10.3 9.45l-7.72 7.72c-.78.78-.78 2.05 0 2.83L4 21.41c.39.39.9.59 1.41.59.51 0 1.02-.2 1.41-.59l7.78-7.78 2.81-2.81c.8-.78.8-2.07 0-2.86zM5.41 20L4 18.59l7.72-7.72 1.47 1.35L5.41 20z\"/>\n",
              "  </svg>\n",
              "      </button>\n",
              "      \n",
              "  <style>\n",
              "    .colab-df-container {\n",
              "      display:flex;\n",
              "      flex-wrap:wrap;\n",
              "      gap: 12px;\n",
              "    }\n",
              "\n",
              "    .colab-df-convert {\n",
              "      background-color: #E8F0FE;\n",
              "      border: none;\n",
              "      border-radius: 50%;\n",
              "      cursor: pointer;\n",
              "      display: none;\n",
              "      fill: #1967D2;\n",
              "      height: 32px;\n",
              "      padding: 0 0 0 0;\n",
              "      width: 32px;\n",
              "    }\n",
              "\n",
              "    .colab-df-convert:hover {\n",
              "      background-color: #E2EBFA;\n",
              "      box-shadow: 0px 1px 2px rgba(60, 64, 67, 0.3), 0px 1px 3px 1px rgba(60, 64, 67, 0.15);\n",
              "      fill: #174EA6;\n",
              "    }\n",
              "\n",
              "    [theme=dark] .colab-df-convert {\n",
              "      background-color: #3B4455;\n",
              "      fill: #D2E3FC;\n",
              "    }\n",
              "\n",
              "    [theme=dark] .colab-df-convert:hover {\n",
              "      background-color: #434B5C;\n",
              "      box-shadow: 0px 1px 3px 1px rgba(0, 0, 0, 0.15);\n",
              "      filter: drop-shadow(0px 1px 2px rgba(0, 0, 0, 0.3));\n",
              "      fill: #FFFFFF;\n",
              "    }\n",
              "  </style>\n",
              "\n",
              "      <script>\n",
              "        const buttonEl =\n",
              "          document.querySelector('#df-fecb91ab-8e0d-429d-921d-1cf3b980e069 button.colab-df-convert');\n",
              "        buttonEl.style.display =\n",
              "          google.colab.kernel.accessAllowed ? 'block' : 'none';\n",
              "\n",
              "        async function convertToInteractive(key) {\n",
              "          const element = document.querySelector('#df-fecb91ab-8e0d-429d-921d-1cf3b980e069');\n",
              "          const dataTable =\n",
              "            await google.colab.kernel.invokeFunction('convertToInteractive',\n",
              "                                                     [key], {});\n",
              "          if (!dataTable) return;\n",
              "\n",
              "          const docLinkHtml = 'Like what you see? Visit the ' +\n",
              "            '<a target=\"_blank\" href=https://colab.research.google.com/notebooks/data_table.ipynb>data table notebook</a>'\n",
              "            + ' to learn more about interactive tables.';\n",
              "          element.innerHTML = '';\n",
              "          dataTable['output_type'] = 'display_data';\n",
              "          await google.colab.output.renderOutput(dataTable, element);\n",
              "          const docLink = document.createElement('div');\n",
              "          docLink.innerHTML = docLinkHtml;\n",
              "          element.appendChild(docLink);\n",
              "        }\n",
              "      </script>\n",
              "    </div>\n",
              "  </div>\n",
              "  "
            ]
          },
          "metadata": {},
          "execution_count": 16
        }
      ]
    },
    {
      "cell_type": "code",
      "source": [
        "study.best_params"
      ],
      "metadata": {
        "colab": {
          "base_uri": "https://localhost:8080/"
        },
        "id": "fKjJ_3D6iITv",
        "outputId": "d20d2423-3ebc-4df8-a269-85c953b042a3"
      },
      "execution_count": 17,
      "outputs": [
        {
          "output_type": "stream",
          "name": "stderr",
          "text": [
            "WARNING:py.warnings:/usr/local/lib/python3.10/dist-packages/ipykernel/ipkernel.py:283: DeprecationWarning: `should_run_async` will not call `transform_cell` automatically in the future. Please pass the result to `transformed_cell` argument and any exception that happen during thetransform in `preprocessing_exc_tuple` in IPython 7.17 and above.\n",
            "  and should_run_async(code)\n",
            "\n"
          ]
        },
        {
          "output_type": "execute_result",
          "data": {
            "text/plain": [
              "{'batch_size': 256,\n",
              " 'episodes': 16,\n",
              " 'exploration_decay': 0.99,\n",
              " 'exploration_min': 0.019502189092526413,\n",
              " 'extra_layers': 0,\n",
              " 'gamma': 0.9326412403219556,\n",
              " 'layer_size': 512,\n",
              " 'learning_rate': 0.001,\n",
              " 'memory_size': 4786}"
            ]
          },
          "metadata": {},
          "execution_count": 17
        }
      ]
    }
  ]
}